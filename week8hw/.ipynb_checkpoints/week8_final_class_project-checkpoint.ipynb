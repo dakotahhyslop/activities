{
 "cells": [
  {
   "cell_type": "markdown",
   "id": "250b6c2e",
   "metadata": {},
   "source": [
    "## Dakotah Hyslop\n",
    "## Week 8 Final In-class Project\n",
    "\n",
    "\n",
    "\n",
    "# Final Project: Retrieving Unique Weather Information with OpenWeatherMap API\n",
    "\n",
    "For the final project, we will utilize the OpenWeatherMap API to retrieve unique weather information for a specific location. Instead of exporting the data to a CSV file, our goal will be to retrieve and display the weather information in a user-friendly format.\n",
    "\n",
    "## Project Overview\n",
    "\n",
    "In this project, we'll create a script that interacts with the OpenWeatherMap API to fetch weather data for a chosen location. We'll display the current weather conditions along with some unique weather information based on the API's available endpoints. This project will give you hands-on experience with making API requests, handling responses, and extracting relevant weather information.\n",
    "\n",
    "Goals:\n",
    "\n",
    "- Sign up for an OpenWeatherMap API key.\n",
    "- Choose a specific location for which you want to retrieve weather information.\n",
    "- Make an API request to fetch the current weather data for the chosen location.\n",
    "- Extract and display the current temperature, humidity, and weather description.\n",
    "- Utilize additional OpenWeatherMap API endpoints to retrieve unique weather information, such as the UV index, air pollution data, or weather maps.\n",
    "- Format and display the retrieved weather information in a user-friendly way.\n",
    "\n",
    "Feel free to explore the OpenWeatherMap API documentation to discover the available endpoints and data that can enhance your weather information display.\n",
    "\n",
    "## Project Instructions\n",
    "\n",
    "1. Sign up for an OpenWeatherMap account by visiting [https://openweathermap.org](https://openweathermap.org) and creating a new account if you don't already have one.\n",
    "\n",
    "2. Once you have an account, generate an API key following the instructions provided in the previous section (if you have not already).\n",
    "\n",
    "3. Set up your Python environment and install the necessary packages, including `requests` and `dotenv`. Create a .env file which contains your API_KEY and it's value as a key-value pair\n",
    "\n",
    "4. Import the required libraries in your Python script.\n",
    "\n",
    "5. Load your OpenWeatherMap API key from the environment variables using `load_dotenv()` and `os.getenv()`.\n",
    "\n",
    "6. Choose a specific location for which you want to retrieve weather information. You can specify the location using city name, coordinates, or OpenWeatherMap's unique city ID.\n",
    "\n",
    "7. Construct the API request URL to fetch the current weather data for the chosen location. Include your API key as a query parameter in the URL.\n",
    "\n",
    "8. Make an API request to the OpenWeatherMap API using `requests.get()` and the constructed URL.\n",
    "\n",
    "9. Handle any potential errors that may occur during the API request using try/except blocks.\n",
    "\n",
    "10. Extract the relevant weather information from the API response, such as the current temperature, humidity, and weather description.\n",
    "\n",
    "11. Format and display the retrieved weather information in a user-friendly way. You can print it to the console or use a graphical interface if you prefer.\n",
    "\n",
    "12. Run your Python script and test it by retrieving weather information for the chosen location.\n",
    "\n",
    "13. Enhance your project by adding more features, such as handling multiple locations, displaying weather icons, providing weather forecasts, or incorporating data visualization.\n",
    "\n",
    "Remember to document your code with comments to explain the purpose and functionality of each section."
   ]
  },
  {
   "cell_type": "code",
   "execution_count": 43,
   "id": "6bba93bc",
   "metadata": {},
   "outputs": [],
   "source": [
    "# Importing all neccessary libraries and modules\n",
    "\n",
    "import requests\n",
    "from dotenv import load_dotenv\n",
    "import pandas as pd\n",
    "import json\n",
    "import os"
   ]
  },
  {
   "cell_type": "code",
   "execution_count": 44,
   "id": "de2652d6",
   "metadata": {},
   "outputs": [
    {
     "name": "stdout",
     "output_type": "stream",
     "text": [
      "The dotenv extension is already loaded. To reload it, use:\n",
      "  %reload_ext dotenv\n"
     ]
    }
   ],
   "source": [
    "# Reads key value pairs for .env file in jupyter notebook format\n",
    "\n",
    "%load_ext dotenv\n",
    "%dotenv"
   ]
  },
  {
   "cell_type": "code",
   "execution_count": 45,
   "id": "2772a3d1",
   "metadata": {},
   "outputs": [],
   "source": [
    "# extracts the value of the key value pair in the .env file 'API_KEY'\n",
    "\n",
    "api_key = os.getenv('API_KEY')"
   ]
  },
  {
   "cell_type": "code",
   "execution_count": 46,
   "id": "cbca17c7",
   "metadata": {},
   "outputs": [
    {
     "name": "stdout",
     "output_type": "stream",
     "text": [
      "PICK YOUR CITY: madrid\n",
      "200\n",
      "{\"coord\":{\"lon\":-93.8233,\"lat\":41.8767},\"weather\":[{\"id\":800,\"main\":\"Clear\",\"description\":\"clear sky\",\"icon\":\"01d\"}],\"base\":\"stations\",\"main\":{\"temp\":304.81,\"feels_like\":303.7,\"temp_min\":303.41,\"temp_max\":305.38,\"pressure\":1005,\"humidity\":31},\"visibility\":10000,\"wind\":{\"speed\":2.57,\"deg\":220},\"clouds\":{\"all\":0},\"dt\":1686869281,\"sys\":{\"type\":2,\"id\":2005926,\"country\":\"US\",\"sunrise\":1686825578,\"sunset\":1686880318},\"timezone\":-18000,\"id\":4865871,\"name\":\"Madrid\",\"cod\":200}\n"
     ]
    }
   ],
   "source": [
    "# Choose a specific location for which you want to retrieve weather information. \n",
    "# You can specify the location using city name, coordinates, or OpenWeatherMap's unique city ID.\n",
    "\n",
    "# Construct the API request URL to fetch the current weather data for the chosen location. \n",
    "# Include your API key as a query parameter in the URL.\n",
    "\n",
    "# Make an API request to the OpenWeatherMap API using requests.get() and the constructed URL.\n",
    "\n",
    "# Allows for the freedom to pick whatever cityte user wants to see with the input function\n",
    "city = input(\"PICK YOUR CITY: \")\n",
    "url = (f\"https://api.openweathermap.org/data/2.5/weather?q={city},US&APPID={api_key}\")\n",
    "\n",
    "\n",
    "# Sending an API request\n",
    "request = requests.get(url)\n",
    "\n",
    "# Check status code for API request\n",
    "print(request.status_code)\n",
    "print(request.text)"
   ]
  },
  {
   "cell_type": "code",
   "execution_count": 52,
   "id": "1cb88048",
   "metadata": {},
   "outputs": [
    {
     "data": {
      "text/plain": [
       "dict_keys(['coord', 'weather', 'base', 'main', 'visibility', 'wind', 'clouds', 'dt', 'sys', 'timezone', 'id', 'name', 'cod'])"
      ]
     },
     "execution_count": 52,
     "metadata": {},
     "output_type": "execute_result"
    }
   ],
   "source": [
    "# Displays all of the keys in dictionary format from json\n",
    "\n",
    "json.loads(request.text).keys()"
   ]
  },
  {
   "cell_type": "code",
   "execution_count": 28,
   "id": "84042750",
   "metadata": {},
   "outputs": [],
   "source": [
    "# Handle any potential errors that may occur during the API request using try/except blocks.\n",
    "\n",
    "def get_city_weather_data(city, key):\n",
    "    \"\"\" \n",
    "    pass the city and data key for which you would like weather data.\n",
    "    \n",
    "    Possible Keys:\n",
    "    \n",
    "    coord', 'weather', 'base', 'main', 'visibility', 'wind', 'clouds', 'dt', 'sys', 'timezone', 'id', 'name', 'cod'\n",
    "    \n",
    "    \"\"\"\n",
    "    \n",
    "    # Catch an invalid data key\n",
    "    acceptable_keys = ['coord', 'weather', 'base', 'main', 'visibility', 'wind', 'clouds', 'dt', 'sys', 'timezone', 'id', 'name', 'cod']\n",
    "    if key in acceptable_keys:\n",
    "        try:\n",
    "            api_key = os.getenv('API_KEY')\n",
    "            url = (f\"https://api.openweathermap.org/data/2.5/weather?q={city},US&APPID={api_key}\")\n",
    "            request = requests.get(url)\n",
    "            return json.loads(request.text)[key]\n",
    "        # Catch an invalid city returning an empty call.\n",
    "        except KeyError as e:\n",
    "            print(\"Invalid city\")\n",
    "    else:\n",
    "        print(f'Invalid keys acceptable keys are {acceptable_keys}')"
   ]
  },
  {
   "cell_type": "code",
   "execution_count": 38,
   "id": "e14e3b04",
   "metadata": {},
   "outputs": [
    {
     "data": {
      "text/plain": [
       "{'temp': 304.81,\n",
       " 'feels_like': 303.7,\n",
       " 'temp_min': 303.41,\n",
       " 'temp_max': 305.38,\n",
       " 'pressure': 1005,\n",
       " 'humidity': 31}"
      ]
     },
     "execution_count": 38,
     "metadata": {},
     "output_type": "execute_result"
    }
   ],
   "source": [
    "# Keys for required variables in project\n",
    "# Current temperature + Humidity = 'main'\n",
    "# Weather description = 'weather'\n",
    "\n",
    "get_city_weather_data(city='madrid', key='main')"
   ]
  },
  {
   "cell_type": "code",
   "execution_count": 39,
   "id": "f4392d71",
   "metadata": {},
   "outputs": [
    {
     "name": "stdout",
     "output_type": "stream",
     "text": [
      "Invalid city\n"
     ]
    }
   ],
   "source": [
    "# Example of error handling being used\n",
    "\n",
    "get_city_weather_data(city='face', key='weather')"
   ]
  },
  {
   "cell_type": "code",
   "execution_count": 40,
   "id": "fe93936f",
   "metadata": {},
   "outputs": [
    {
     "name": "stdout",
     "output_type": "stream",
     "text": [
      "Invalid keys acceptable keys are ['coord', 'weather', 'base', 'main', 'visibility', 'wind', 'clouds', 'dt', 'sys', 'timezone', 'id', 'name', 'cod']\n"
     ]
    }
   ],
   "source": [
    "# Example of error handling being used again\n",
    "\n",
    "get_city_weather_data(city='madrid', key='Face')"
   ]
  }
 ],
 "metadata": {
  "kernelspec": {
   "display_name": "Python 3 (ipykernel)",
   "language": "python",
   "name": "python3"
  },
  "language_info": {
   "codemirror_mode": {
    "name": "ipython",
    "version": 3
   },
   "file_extension": ".py",
   "mimetype": "text/x-python",
   "name": "python",
   "nbconvert_exporter": "python",
   "pygments_lexer": "ipython3",
   "version": "3.10.9"
  }
 },
 "nbformat": 4,
 "nbformat_minor": 5
}
