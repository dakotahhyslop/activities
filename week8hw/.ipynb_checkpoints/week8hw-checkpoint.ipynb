{
 "cells": [
  {
   "cell_type": "code",
   "execution_count": 1,
   "id": "27ab177e",
   "metadata": {},
   "outputs": [],
   "source": [
    "import requests\n",
    "from dotenv import load_dotenv\n",
    "from pathlib import Path\n",
    "import pandas as pd\n",
    "import json\n",
    "import os\n",
    "\n",
    "# dotenv_path = Path(r'C:\\Users\\hyslo\\Code\\SavvyCoders\\activities\\.env')\n",
    "# load_dotenv(dotenv_path=dotenv_path)\n",
    "\n",
    "# load_dotenv('API_KEY')\n",
    "# api_key=os.getenv('API_KEY')\n",
    "\n",
    "# # # city = input(\"PICK YOUR CITY: \")\n",
    "\n",
    "# # # url = (f\"https://api.openweathermap.org/data/2.5/weather?q={city},US&appid=+{api_key}\")\n",
    "# # # request = requests.get(url)\n",
    "# # # request.status_code\n",
    "\n",
    "# # Defining variables for ease of use\n",
    "# url = 'https://api.openweathermap.org/data/2.5/weather?q=New York City,US&APPID=+4933c27c5f7f2eaf5fb655e5a595f792'\n",
    "\n",
    "# # Sending an API request\n",
    "# request = requests.get(url)\n",
    "\n",
    "# # Check status code for API request\n",
    "# request.status_code\n",
    "\n",
    "\n",
    "# try:\n",
    "\n",
    "#     # Defining variables for ease of use\n",
    "#     url = (f'https://api.openweathermap.org/data/2.5/weather?q=New York City,US&APPID=+api_key')\n",
    "\n",
    "#     # Sending an API request\n",
    "#     request = requests.get(url)\n",
    "\n",
    "#     # Check status code for API request\n",
    "#     if request.status_code == 401:\n",
    "        \n",
    "#         w_data = json.loads(request.text)\n",
    "#         # Storing variables for indexing API\n",
    "#         description = w_data['weather']\n",
    "#         temp = w_data['main']\n",
    "#         wind = w_data['wind']\n",
    "#         clouds = w_data['clouds']\n",
    "#         name = w_data['name']\n",
    "#         base = w_data['base']\n",
    "\n",
    "#         print(f\"\\nCurrent Temperature & Humidity: {temp}\")\n",
    "#         print(f\"\\nDescription: {description}\")\n",
    "#         print(f\"\\Wind: {wind}\")\n",
    "#         print(f\"\\Clouds: {clouds}\")\n",
    "#         print(f\"\\City Name: {name}\")\n",
    "#         print(f\"\\Base Info: {base}\")\n",
    "            \n",
    "# except requests.exceptions.RequestException as e:\n",
    "#     # Handle connection errors\n",
    "#     print(\"CONNECTION ERROR!!\", e)\n",
    "\n",
    "# finally:\n",
    "#     print('\\nREQUEST COMPLETED!!!')\n"
   ]
  },
  {
   "cell_type": "code",
   "execution_count": 2,
   "id": "935af45e",
   "metadata": {},
   "outputs": [
    {
     "data": {
      "text/plain": [
       "True"
      ]
     },
     "execution_count": 2,
     "metadata": {},
     "output_type": "execute_result"
    }
   ],
   "source": [
    "# dotenv_path = Path(r'C:\\Users\\hyslo\\Code\\SavvyCoders\\activities\\.env')\n",
    "load_dotenv()\n",
    "\n",
    "# load_dotenv('API_KEY')\n",
    "# api_key=os.getenv('API_KEY')"
   ]
  },
  {
   "cell_type": "code",
   "execution_count": 32,
   "id": "3900530b",
   "metadata": {},
   "outputs": [
    {
     "name": "stdout",
     "output_type": "stream",
     "text": [
      "Pick one of the following city names: paris or madrid  paris\n",
      "Pick one of the following country codes: FR for Paris or ES for Madrid  FR\n"
     ]
    },
    {
     "data": {
      "text/plain": [
       "401"
      ]
     },
     "execution_count": 32,
     "metadata": {},
     "output_type": "execute_result"
    }
   ],
   "source": [
    "# import requests\n",
    "# from dotenv import load_dotenv\n",
    "# from pathlib import Path\n",
    "# import pandas as pd\n",
    "# import json\n",
    "# import os\n",
    "\n",
    "# # api_key = '54254570b1c1f064f204bd517605f528'\n",
    "\n",
    "# dotenv_path = Path(r'C:\\Users\\hyslo\\Code\\SavvyCoders\\activities\\.env')\n",
    "# # load_dotenv(r'C:/Users/hyslo/Code/SavvyCoders/activities/.env')\n",
    "# # dotenv_path=dotenv_path\n",
    "# load_dotenv('API_KEY')\n",
    "# api_key=os.getenv('API_KEY')\n",
    "\n",
    "\n",
    "# city_name = input(\"Pick one of the following city names: paris or madrid  \")\n",
    "# country_code = input(\"Pick one of the following country codes: FR for Paris or ES for Madrid  \")\n",
    "\n",
    "\n",
    "# # Send a GET request to the API\n",
    "# url = (f'http://api.openweathermap.org/geo/1.0/direct?q={city_name},{country_code}&appid={api_key}')\n",
    "\n",
    "\n",
    "# # url = ('https://api.openweathermap.org/data/2.5/weather?q=New York City,US&APPID=+54254570b1c1f064f204bd517605f528')\n",
    "\n",
    "# response = requests.get(url)\n",
    "\n",
    "# # Parse the JSON response\n",
    "# data = response.json()\n",
    "# data = json.loads(response.text)\n",
    "\n",
    "# # Print the title of the post\n",
    "# # data.keys()\n",
    "# 54254570b1c1f064f204bd517605f528\n",
    "# response.status_code"
   ]
  },
  {
   "cell_type": "code",
   "execution_count": 6,
   "id": "f4cacfb5",
   "metadata": {},
   "outputs": [
    {
     "ename": "TypeError",
     "evalue": "get_current_weather() missing 2 required positional arguments: 'session' and 'city_name'",
     "output_type": "error",
     "traceback": [
      "\u001b[1;31m---------------------------------------------------------------------------\u001b[0m",
      "\u001b[1;31mTypeError\u001b[0m                                 Traceback (most recent call last)",
      "Cell \u001b[1;32mIn[6], line 23\u001b[0m\n\u001b[0;32m     20\u001b[0m     lond \u001b[38;5;241m=\u001b[39m get_current_weather(s, \u001b[38;5;124m'\u001b[39m\u001b[38;5;124mLondon\u001b[39m\u001b[38;5;124m'\u001b[39m)\n\u001b[0;32m     21\u001b[0m     \u001b[38;5;28mprint\u001b[39m(manc, lond)\n\u001b[1;32m---> 23\u001b[0m \u001b[43mget_current_weather\u001b[49m\u001b[43m(\u001b[49m\u001b[43m)\u001b[49m\n",
      "\u001b[1;31mTypeError\u001b[0m: get_current_weather() missing 2 required positional arguments: 'session' and 'city_name'"
     ]
    }
   ],
   "source": [
    "import requests\n",
    "from dotenv import load_dotenv\n",
    "import pandas as pd\n",
    "import json\n",
    "import os\n",
    "\n",
    "def configure():\n",
    "    load_dotenv()\n",
    "    \n",
    "def get_current_weather(session, city_name):\n",
    "    url = f\"https://api.openweathermap.org/data/2.5/weather?q={city_name}&APPID={os.getenv('api_key2')}\"\n",
    "    r = session.get(url)\n",
    "    return r.json()\n",
    "\n",
    "\n",
    "def main():\n",
    "    configure()\n",
    "    s = requests.Session()\n",
    "    manc = get_current_weather(s, 'Manchester')\n",
    "    lond = get_current_weather(s, 'London')\n",
    "    print(manc, lond)\n",
    "\n",
    "main()\n",
    "\n"
   ]
  }
 ],
 "metadata": {
  "kernelspec": {
   "display_name": "Python 3 (ipykernel)",
   "language": "python",
   "name": "python3"
  },
  "language_info": {
   "codemirror_mode": {
    "name": "ipython",
    "version": 3
   },
   "file_extension": ".py",
   "mimetype": "text/x-python",
   "name": "python",
   "nbconvert_exporter": "python",
   "pygments_lexer": "ipython3",
   "version": "3.10.9"
  }
 },
 "nbformat": 4,
 "nbformat_minor": 5
}
