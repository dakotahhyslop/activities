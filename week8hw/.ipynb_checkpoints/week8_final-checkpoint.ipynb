{
 "cells": [
  {
   "cell_type": "markdown",
   "id": "560ef43f",
   "metadata": {},
   "source": [
    "## Final Project: Retrieving Unique Weather Information with OpenWeatherMap API\n",
    "\n",
    "For the final project, we will utilize the OpenWeatherMap API to retrieve unique weather information for a specific location. Instead of exporting the data to a CSV file, our goal will be to retrieve and display the weather information in a user-friendly format.\n",
    "\n",
    "## Project Overview\n",
    "\n",
    "In this project, we'll create a script that interacts with the OpenWeatherMap API to fetch weather data for a chosen location. We'll display the current weather conditions along with some unique weather information based on the API's available endpoints. This project will give you hands-on experience with making API requests, handling responses, and extracting relevant weather information.\n",
    "\n",
    "Goals:\n",
    "\n",
    "- Sign up for an OpenWeatherMap API key.\n",
    "- Choose a specific location for which you want to retrieve weather information.\n",
    "- Make an API request to fetch the current weather data for the chosen location.\n",
    "- Extract and display the current temperature, humidity, and weather description.\n",
    "- Utilize additional OpenWeatherMap API endpoints to retrieve unique weather information, such as the UV index, air pollution data, or weather maps.\n",
    "- Format and display the retrieved weather information in a user-friendly way.\n",
    "\n",
    "Feel free to explore the OpenWeatherMap API documentation to discover the available endpoints and data that can enhance your weather information display.\n",
    "\n",
    "## Project Instructions\n",
    "\n",
    "1. Sign up for an OpenWeatherMap account by visiting [https://openweathermap.org](https://openweathermap.org) and creating a new account if you don't already have one.\n",
    "\n",
    "2. Once you have an account, generate an API key following the instructions provided in the previous section (if you have not already).\n",
    "\n",
    "3. Set up your Python environment and install the necessary packages, including `requests` and `dotenv`. Create a .env file which contains your API_KEY and it's value as a key-value pair\n",
    "\n",
    "4. Import the required libraries in your Python script.\n",
    "\n",
    "5. Load your OpenWeatherMap API key from the environment variables using `load_dotenv()` and `os.getenv()`.\n",
    "\n",
    "6. Choose a specific location for which you want to retrieve weather information. You can specify the location using city name, coordinates, or OpenWeatherMap's unique city ID.\n",
    "\n",
    "7. Construct the API request URL to fetch the current weather data for the chosen location. Include your API key as a query parameter in the URL.\n",
    "\n",
    "8. Make an API request to the OpenWeatherMap API using `requests.get()` and the constructed URL.\n",
    "\n",
    "9. Handle any potential errors that may occur during the API request using try/except blocks.\n",
    "\n",
    "10. Extract the relevant weather information from the API response, such as the current temperature, humidity, and weather description.\n",
    "\n",
    "11. Format and display the retrieved weather information in a user-friendly way. You can print it to the console or use a graphical interface if you prefer.\n",
    "\n",
    "12. Run your Python script and test it by retrieving weather information for the chosen location.\n",
    "\n",
    "13. Enhance your project by adding more features, such as handling multiple locations, displaying weather icons, providing weather forecasts, or incorporating data visualization.\n",
    "\n",
    "Remember to document your code with comments to explain the purpose and functionality of each section."
   ]
  },
  {
   "cell_type": "code",
   "execution_count": 1,
   "id": "b6c13227",
   "metadata": {},
   "outputs": [],
   "source": [
    "import requests\n",
    "from dotenv import load_dotenv\n",
    "import pandas as pd\n",
    "import json\n",
    "import os"
   ]
  },
  {
   "cell_type": "code",
   "execution_count": 2,
   "id": "753b73a4",
   "metadata": {},
   "outputs": [],
   "source": [
    "%load_ext dotenv\n",
    "%dotenv"
   ]
  },
  {
   "cell_type": "code",
   "execution_count": 4,
   "id": "25b231c4",
   "metadata": {},
   "outputs": [],
   "source": [
    "api_key = os.getenv('API_KEY')"
   ]
  },
  {
   "cell_type": "code",
   "execution_count": 13,
   "id": "d31c0033",
   "metadata": {},
   "outputs": [],
   "source": [
    "# with gzip.open(\"city.list.json.gz\", \"rb\") as f:\n",
    "#     data = json.loads(f.read().decode(\"utf-8\"))"
   ]
  },
  {
   "cell_type": "code",
   "execution_count": 18,
   "id": "40366fd8",
   "metadata": {},
   "outputs": [],
   "source": [
    "# us_cities = [dic for dic in data if dic.get('country')=='US']"
   ]
  },
  {
   "cell_type": "code",
   "execution_count": 23,
   "id": "c08e4d57",
   "metadata": {},
   "outputs": [
    {
     "data": {
      "text/html": [
       "<div>\n",
       "<style scoped>\n",
       "    .dataframe tbody tr th:only-of-type {\n",
       "        vertical-align: middle;\n",
       "    }\n",
       "\n",
       "    .dataframe tbody tr th {\n",
       "        vertical-align: top;\n",
       "    }\n",
       "\n",
       "    .dataframe thead th {\n",
       "        text-align: right;\n",
       "    }\n",
       "</style>\n",
       "<table border=\"1\" class=\"dataframe\">\n",
       "  <thead>\n",
       "    <tr style=\"text-align: right;\">\n",
       "      <th></th>\n",
       "      <th>id</th>\n",
       "      <th>name</th>\n",
       "      <th>state</th>\n",
       "      <th>country</th>\n",
       "      <th>coord</th>\n",
       "    </tr>\n",
       "  </thead>\n",
       "  <tbody>\n",
       "    <tr>\n",
       "      <th>0</th>\n",
       "      <td>4046255.0</td>\n",
       "      <td>Bay Minette</td>\n",
       "      <td>AL</td>\n",
       "      <td>US</td>\n",
       "      <td>{'lon': -87.773048, 'lat': 30.882959}</td>\n",
       "    </tr>\n",
       "    <tr>\n",
       "      <th>1</th>\n",
       "      <td>4046274.0</td>\n",
       "      <td>Edna</td>\n",
       "      <td>TX</td>\n",
       "      <td>US</td>\n",
       "      <td>{'lon': -96.646088, 'lat': 28.97859}</td>\n",
       "    </tr>\n",
       "    <tr>\n",
       "      <th>2</th>\n",
       "      <td>4046319.0</td>\n",
       "      <td>Bayou La Batre</td>\n",
       "      <td>AL</td>\n",
       "      <td>US</td>\n",
       "      <td>{'lon': -88.24852, 'lat': 30.403521}</td>\n",
       "    </tr>\n",
       "    <tr>\n",
       "      <th>3</th>\n",
       "      <td>4046332.0</td>\n",
       "      <td>Henderson</td>\n",
       "      <td>TX</td>\n",
       "      <td>US</td>\n",
       "      <td>{'lon': -94.799377, 'lat': 32.153221}</td>\n",
       "    </tr>\n",
       "    <tr>\n",
       "      <th>4</th>\n",
       "      <td>4046430.0</td>\n",
       "      <td>Natalia</td>\n",
       "      <td>TX</td>\n",
       "      <td>US</td>\n",
       "      <td>{'lon': -98.862534, 'lat': 29.18968}</td>\n",
       "    </tr>\n",
       "  </tbody>\n",
       "</table>\n",
       "</div>"
      ],
      "text/plain": [
       "          id            name state country  \\\n",
       "0  4046255.0     Bay Minette    AL      US   \n",
       "1  4046274.0            Edna    TX      US   \n",
       "2  4046319.0  Bayou La Batre    AL      US   \n",
       "3  4046332.0       Henderson    TX      US   \n",
       "4  4046430.0         Natalia    TX      US   \n",
       "\n",
       "                                   coord  \n",
       "0  {'lon': -87.773048, 'lat': 30.882959}  \n",
       "1   {'lon': -96.646088, 'lat': 28.97859}  \n",
       "2   {'lon': -88.24852, 'lat': 30.403521}  \n",
       "3  {'lon': -94.799377, 'lat': 32.153221}  \n",
       "4   {'lon': -98.862534, 'lat': 29.18968}  "
      ]
     },
     "execution_count": 23,
     "metadata": {},
     "output_type": "execute_result"
    }
   ],
   "source": [
    "# us_data = pd.DataFrame(us_cities)\n",
    "# us_data.head()"
   ]
  },
  {
   "cell_type": "code",
   "execution_count": 24,
   "id": "79b40f6f",
   "metadata": {},
   "outputs": [
    {
     "data": {
      "text/html": [
       "<div>\n",
       "<style scoped>\n",
       "    .dataframe tbody tr th:only-of-type {\n",
       "        vertical-align: middle;\n",
       "    }\n",
       "\n",
       "    .dataframe tbody tr th {\n",
       "        vertical-align: top;\n",
       "    }\n",
       "\n",
       "    .dataframe thead th {\n",
       "        text-align: right;\n",
       "    }\n",
       "</style>\n",
       "<table border=\"1\" class=\"dataframe\">\n",
       "  <thead>\n",
       "    <tr style=\"text-align: right;\">\n",
       "      <th></th>\n",
       "      <th>id</th>\n",
       "      <th>name</th>\n",
       "      <th>state</th>\n",
       "      <th>country</th>\n",
       "      <th>coord</th>\n",
       "    </tr>\n",
       "  </thead>\n",
       "  <tbody>\n",
       "    <tr>\n",
       "      <th>8332</th>\n",
       "      <td>4833098.0</td>\n",
       "      <td>Camillus</td>\n",
       "      <td>NY</td>\n",
       "      <td>US</td>\n",
       "      <td>{'lon': -76.3041, 'lat': 43.03923}</td>\n",
       "    </tr>\n",
       "    <tr>\n",
       "      <th>8333</th>\n",
       "      <td>4833108.0</td>\n",
       "      <td>Clyde</td>\n",
       "      <td>NY</td>\n",
       "      <td>US</td>\n",
       "      <td>{'lon': -76.8694, 'lat': 43.084229}</td>\n",
       "    </tr>\n",
       "    <tr>\n",
       "      <th>8335</th>\n",
       "      <td>4833272.0</td>\n",
       "      <td>Wayland</td>\n",
       "      <td>NY</td>\n",
       "      <td>US</td>\n",
       "      <td>{'lon': -77.589706, 'lat': 42.567841}</td>\n",
       "    </tr>\n",
       "    <tr>\n",
       "      <th>8336</th>\n",
       "      <td>4833276.0</td>\n",
       "      <td>Watervliet</td>\n",
       "      <td>NY</td>\n",
       "      <td>US</td>\n",
       "      <td>{'lon': -73.701233, 'lat': 42.73008}</td>\n",
       "    </tr>\n",
       "    <tr>\n",
       "      <th>12264</th>\n",
       "      <td>5106734.0</td>\n",
       "      <td>Adams</td>\n",
       "      <td>NY</td>\n",
       "      <td>US</td>\n",
       "      <td>{'lon': -76.024094, 'lat': 43.809231}</td>\n",
       "    </tr>\n",
       "    <tr>\n",
       "      <th>...</th>\n",
       "      <td>...</td>\n",
       "      <td>...</td>\n",
       "      <td>...</td>\n",
       "      <td>...</td>\n",
       "      <td>...</td>\n",
       "    </tr>\n",
       "    <tr>\n",
       "      <th>19682</th>\n",
       "      <td>7258945.0</td>\n",
       "      <td>Saugerties South</td>\n",
       "      <td>NY</td>\n",
       "      <td>US</td>\n",
       "      <td>{'lon': -73.950668, 'lat': 42.06139}</td>\n",
       "    </tr>\n",
       "    <tr>\n",
       "      <th>19683</th>\n",
       "      <td>7258965.0</td>\n",
       "      <td>Setauket-East Setauket</td>\n",
       "      <td>NY</td>\n",
       "      <td>US</td>\n",
       "      <td>{'lon': -73.101784, 'lat': 40.930641}</td>\n",
       "    </tr>\n",
       "    <tr>\n",
       "      <th>19926</th>\n",
       "      <td>7706672.0</td>\n",
       "      <td>Morley Mobile Home Park</td>\n",
       "      <td>NY</td>\n",
       "      <td>US</td>\n",
       "      <td>{'lon': -75.488693, 'lat': 44.67506}</td>\n",
       "    </tr>\n",
       "    <tr>\n",
       "      <th>19959</th>\n",
       "      <td>8085328.0</td>\n",
       "      <td>Level Acres Mobile Home Park</td>\n",
       "      <td>NY</td>\n",
       "      <td>US</td>\n",
       "      <td>{'lon': -77.925407, 'lat': 42.092098}</td>\n",
       "    </tr>\n",
       "    <tr>\n",
       "      <th>19960</th>\n",
       "      <td>8087162.0</td>\n",
       "      <td>Sarosca Farm Estates</td>\n",
       "      <td>NY</td>\n",
       "      <td>US</td>\n",
       "      <td>{'lon': -73.721672, 'lat': 41.049438}</td>\n",
       "    </tr>\n",
       "  </tbody>\n",
       "</table>\n",
       "<p>979 rows × 5 columns</p>\n",
       "</div>"
      ],
      "text/plain": [
       "              id                          name state country  \\\n",
       "8332   4833098.0                      Camillus    NY      US   \n",
       "8333   4833108.0                         Clyde    NY      US   \n",
       "8335   4833272.0                       Wayland    NY      US   \n",
       "8336   4833276.0                    Watervliet    NY      US   \n",
       "12264  5106734.0                         Adams    NY      US   \n",
       "...          ...                           ...   ...     ...   \n",
       "19682  7258945.0              Saugerties South    NY      US   \n",
       "19683  7258965.0        Setauket-East Setauket    NY      US   \n",
       "19926  7706672.0       Morley Mobile Home Park    NY      US   \n",
       "19959  8085328.0  Level Acres Mobile Home Park    NY      US   \n",
       "19960  8087162.0          Sarosca Farm Estates    NY      US   \n",
       "\n",
       "                                       coord  \n",
       "8332      {'lon': -76.3041, 'lat': 43.03923}  \n",
       "8333     {'lon': -76.8694, 'lat': 43.084229}  \n",
       "8335   {'lon': -77.589706, 'lat': 42.567841}  \n",
       "8336    {'lon': -73.701233, 'lat': 42.73008}  \n",
       "12264  {'lon': -76.024094, 'lat': 43.809231}  \n",
       "...                                      ...  \n",
       "19682   {'lon': -73.950668, 'lat': 42.06139}  \n",
       "19683  {'lon': -73.101784, 'lat': 40.930641}  \n",
       "19926   {'lon': -75.488693, 'lat': 44.67506}  \n",
       "19959  {'lon': -77.925407, 'lat': 42.092098}  \n",
       "19960  {'lon': -73.721672, 'lat': 41.049438}  \n",
       "\n",
       "[979 rows x 5 columns]"
      ]
     },
     "execution_count": 24,
     "metadata": {},
     "output_type": "execute_result"
    }
   ],
   "source": [
    "# us_data[us_data['state']=='NY']"
   ]
  },
  {
   "cell_type": "code",
   "execution_count": 45,
   "id": "c22b1cfd",
   "metadata": {},
   "outputs": [
    {
     "name": "stdout",
     "output_type": "stream",
     "text": [
      "PICK YOUR CITY: Saugerties South\n",
      "200\n",
      "{\"coord\":{\"lon\":-73.9507,\"lat\":42.0614},\"weather\":[{\"id\":803,\"main\":\"Clouds\",\"description\":\"broken clouds\",\"icon\":\"04d\"}],\"base\":\"stations\",\"main\":{\"temp\":298.1,\"feels_like\":298.09,\"temp_min\":296.41,\"temp_max\":299.27,\"pressure\":1003,\"humidity\":55,\"sea_level\":1003,\"grnd_level\":999},\"visibility\":10000,\"wind\":{\"speed\":3.37,\"deg\":296,\"gust\":4.87},\"clouds\":{\"all\":62},\"dt\":1686865701,\"sys\":{\"type\":2,\"id\":2033439,\"country\":\"US\",\"sunrise\":1686820769,\"sunset\":1686875586},\"timezone\":-14400,\"id\":7258945,\"name\":\"Saugerties South\",\"cod\":200}\n"
     ]
    }
   ],
   "source": [
    "# Choose a specific location for which you want to retrieve weather information. \n",
    "# You can specify the location using city name, coordinates, or OpenWeatherMap's unique city ID.\n",
    "\n",
    "# Construct the API request URL to fetch the current weather data for the chosen location. \n",
    "# Include your API key as a query parameter in the URL.\n",
    "\n",
    "# Make an API request to the OpenWeatherMap API using requests.get() and the constructed URL.\n",
    "\n",
    "city = input(\"PICK YOUR CITY: \")\n",
    "url = (f\"https://api.openweathermap.org/data/2.5/weather?q={city},US&APPID={api_key}\")\n",
    "\n",
    "\n",
    "# Sending an API request\n",
    "request = requests.get(url)\n",
    "\n",
    "# Check status code for API request\n",
    "print(request.status_code)\n",
    "print(request.text)"
   ]
  },
  {
   "cell_type": "code",
   "execution_count": 52,
   "id": "bd6749dd",
   "metadata": {},
   "outputs": [
    {
     "data": {
      "text/plain": [
       "dict_keys(['coord', 'weather', 'base', 'main', 'visibility', 'wind', 'clouds', 'dt', 'sys', 'timezone', 'id', 'name', 'cod'])"
      ]
     },
     "execution_count": 52,
     "metadata": {},
     "output_type": "execute_result"
    }
   ],
   "source": [
    "json.loads(request.text).keys()"
   ]
  },
  {
   "cell_type": "code",
   "execution_count": 28,
   "id": "c618cebf",
   "metadata": {},
   "outputs": [],
   "source": [
    "# Handle any potential errors that may occur during the API request using try/except blocks.\n",
    "def get_city_weather_data(city, key, key2):\n",
    "    \"\"\" \n",
    "    pass the city and data key for which you would like weather data.\n",
    "    \n",
    "    Possible Keys:\n",
    "    \n",
    "    coord', 'weather', 'base', 'main', 'visibility', 'wind', 'clouds', 'dt', 'sys', 'timezone', 'id', 'name', 'cod'\n",
    "    \n",
    "    \"\"\"\n",
    "    \n",
    "    # Catch an invalid data key\n",
    "    acceptable_keys = ['coord', 'weather', 'base', 'main', 'visibility', 'wind', 'clouds', 'dt', 'sys', 'timezone', 'id', 'name', 'cod']\n",
    "    if key in acceptable_keys:\n",
    "        try:\n",
    "            api_key = os.getenv('API_KEY')\n",
    "            url = (f\"https://api.openweathermap.org/data/2.5/weather?q={city},US&APPID={api_key}\")\n",
    "            request = requests.get(url)\n",
    "            return json.loads(request.text)[key]\n",
    "        # Catch an invalid city returning an empty call.\n",
    "        except KeyError as e:\n",
    "            print(\"Invalid city\")\n",
    "    else:\n",
    "        print(f'Invalid keys acceptable keys are {acceptable_keys}')"
   ]
  },
  {
   "cell_type": "code",
   "execution_count": 33,
   "id": "4f26b993",
   "metadata": {},
   "outputs": [
    {
     "ename": "TypeError",
     "evalue": "get_city_weather_data() got an unexpected keyword argument 'key2'",
     "output_type": "error",
     "traceback": [
      "\u001b[1;31m---------------------------------------------------------------------------\u001b[0m",
      "\u001b[1;31mTypeError\u001b[0m                                 Traceback (most recent call last)",
      "Cell \u001b[1;32mIn[33], line 1\u001b[0m\n\u001b[1;32m----> 1\u001b[0m \u001b[43mget_city_weather_data\u001b[49m\u001b[43m(\u001b[49m\u001b[43mcity\u001b[49m\u001b[38;5;241;43m=\u001b[39;49m\u001b[38;5;124;43m'\u001b[39;49m\u001b[38;5;124;43mmadrid\u001b[39;49m\u001b[38;5;124;43m'\u001b[39;49m\u001b[43m,\u001b[49m\u001b[43m \u001b[49m\u001b[43mkey\u001b[49m\u001b[38;5;241;43m=\u001b[39;49m\u001b[38;5;124;43m'\u001b[39;49m\u001b[38;5;124;43mcoord\u001b[39;49m\u001b[38;5;124;43m'\u001b[39;49m\u001b[43m,\u001b[49m\u001b[43m \u001b[49m\u001b[43mkey2\u001b[49m\u001b[38;5;241;43m=\u001b[39;49m\u001b[38;5;124;43m'\u001b[39;49m\u001b[38;5;124;43mmain\u001b[39;49m\u001b[38;5;124;43m'\u001b[39;49m\u001b[43m)\u001b[49m\n",
      "\u001b[1;31mTypeError\u001b[0m: get_city_weather_data() got an unexpected keyword argument 'key2'"
     ]
    }
   ],
   "source": [
    "get_city_weather_data(city='madrid', key='coord', key2='main')"
   ]
  },
  {
   "cell_type": "code",
   "execution_count": 30,
   "id": "081cbb41",
   "metadata": {},
   "outputs": [
    {
     "name": "stdout",
     "output_type": "stream",
     "text": [
      "Invalid keys acceptable keys are ['coord', 'weather', 'base', 'main', 'visibility', 'wind', 'clouds', 'dt', 'sys', 'timezone', 'id', 'name', 'cod']\n"
     ]
    }
   ],
   "source": [
    "get_city_weather_data(city='deez', key='deez')"
   ]
  },
  {
   "cell_type": "code",
   "execution_count": null,
   "id": "bdb6df65",
   "metadata": {},
   "outputs": [],
   "source": []
  }
 ],
 "metadata": {
  "kernelspec": {
   "display_name": "Python 3 (ipykernel)",
   "language": "python",
   "name": "python3"
  },
  "language_info": {
   "codemirror_mode": {
    "name": "ipython",
    "version": 3
   },
   "file_extension": ".py",
   "mimetype": "text/x-python",
   "name": "python",
   "nbconvert_exporter": "python",
   "pygments_lexer": "ipython3",
   "version": "3.10.9"
  }
 },
 "nbformat": 4,
 "nbformat_minor": 5
}
